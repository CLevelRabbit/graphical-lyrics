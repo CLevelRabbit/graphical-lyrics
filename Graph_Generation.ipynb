{
 "cells": [
  {
   "cell_type": "code",
   "execution_count": null,
   "id": "c6186c41",
   "metadata": {},
   "outputs": [],
   "source": [
    "import analyze_lyrics.generate_df as generate_df \n",
    "import analyze_lyrics.ploting_funcs as ploting_funcs"
   ]
  },
  {
   "cell_type": "code",
   "execution_count": null,
   "id": "70a032cb",
   "metadata": {},
   "outputs": [],
   "source": [
    "DB_NAME = 'lyrics-20220715-200909.csv'\n",
    "df = generate_df.get_clean_df(DB_NAME)\n",
    "totals_df = generate_df.get_totals_df(df)"
   ]
  },
  {
   "cell_type": "code",
   "execution_count": null,
   "id": "d55bb7a5",
   "metadata": {
    "scrolled": true
   },
   "outputs": [],
   "source": [
    "# FIRST POST\n",
    "upside_artists = ['טדי נגוסה', 'מיכאל סוויסה', 'שאזאמאט']\n",
    "ploting_funcs.draw_artists(totals_df, \"uniq_words\", \"uniq_words_avg\", xtitle=\"מספר מילים ייחודיות\", ytitle=\"מספר מילים יייחודיות ממוצע\", upside_artists=upside_artists)"
   ]
  },
  {
   "cell_type": "code",
   "execution_count": null,
   "id": "13b6a327",
   "metadata": {
    "scrolled": true
   },
   "outputs": [],
   "source": [
    "# SECOND POST\n",
    "for fig in ploting_funcs.draw_years_by_trait_binned(df, 'total_words_avg', 'מספר מילים ממוצע'):\n",
    "    fig.show()"
   ]
  },
  {
   "cell_type": "code",
   "execution_count": null,
   "id": "355bad29",
   "metadata": {},
   "outputs": [],
   "source": [
    "# THIRD POST\n",
    "colors_list = ['lightcoral', 'lightblue', 'lightpink', 'lightgreen', 'lightseagreen', 'orange', 'tan', 'palevioletred']\n",
    "colors_dict = {\n",
    "    'לא': colors_list[0],\n",
    "    'כן': colors_list[0],\n",
    "    'היא': colors_list[1],\n",
    "    'הוא': colors_list[1],\n",
    "    'לי': colors_list[2],\n",
    "    'לך': colors_list[2],\n",
    "    'עם': colors_list[3],\n",
    "    'בלי': colors_list[3],\n",
    "    'פה': colors_list[4],\n",
    "    'שם': colors_list[4],\n",
    "    'יש': colors_list[5],\n",
    "    'אין': colors_list[5],\n",
    "    'או': colors_list[6],\n",
    "    'גם': colors_list[6],\n",
    "    'אני': colors_list[7],\n",
    "    'אתה': colors_list[7],\n",
    "}\n",
    "ploting_funcs.print_top_words_combo(df, 1, 50, colors_dict=colors_dict, title='50 המילים הנפוצות בראפ').show()\n",
    "ploting_funcs.print_top_words_combo(df, 2, 20, title='20 זוגות המילים הנפוצות בראפ').show()\n",
    "ploting_funcs.print_top_words_combo(df, 3, 20, title='20 שלשות המילים הנפוצות בראפ').show()"
   ]
  },
  {
   "cell_type": "code",
   "execution_count": null,
   "id": "195d2e02",
   "metadata": {},
   "outputs": [],
   "source": [
    "# FOURTH POST\n",
    "ploting_funcs.print_metric_bar_graph(totals_df, 'questions_avg', title='מספר שאלות ממוצע לשיר')"
   ]
  },
  {
   "cell_type": "code",
   "execution_count": null,
   "id": "512b4902",
   "metadata": {
    "scrolled": true
   },
   "outputs": [],
   "source": [
    "# FIFTH POST\n",
    "ploting_funcs.print_metric_bar_graph(totals_df, 'me_avg', title='מספר התייחסויות עצמיות ממוצע לשיר').show()\n",
    "ploting_funcs.print_metric_bar_graph(totals_df, 'me_avg_normalized', title='מספר התייחסויות עצמיות ממוצע לשיר (מנורמל)').show()"
   ]
  }
 ],
 "metadata": {
  "kernelspec": {
   "display_name": "Python 3 (ipykernel)",
   "language": "python",
   "name": "python3"
  },
  "language_info": {
   "codemirror_mode": {
    "name": "ipython",
    "version": 3
   },
   "file_extension": ".py",
   "mimetype": "text/x-python",
   "name": "python",
   "nbconvert_exporter": "python",
   "pygments_lexer": "ipython3",
   "version": "3.10.5"
  }
 },
 "nbformat": 4,
 "nbformat_minor": 5
}
